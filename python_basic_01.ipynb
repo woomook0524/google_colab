{
  "nbformat": 4,
  "nbformat_minor": 0,
  "metadata": {
    "colab": {
      "provenance": [],
      "authorship_tag": "ABX9TyPGx4/mlbb/HHNahq97INDY",
      "include_colab_link": true
    },
    "kernelspec": {
      "name": "python3",
      "display_name": "Python 3"
    },
    "language_info": {
      "name": "python"
    }
  },
  "cells": [
    {
      "cell_type": "markdown",
      "metadata": {
        "id": "view-in-github",
        "colab_type": "text"
      },
      "source": [
        "<a href=\"https://colab.research.google.com/github/woomook0524/google_colab/blob/main/python_basic_01.ipynb\" target=\"_parent\"><img src=\"https://colab.research.google.com/assets/colab-badge.svg\" alt=\"Open In Colab\"/></a>"
      ]
    },
    {
      "cell_type": "code",
      "execution_count": null,
      "metadata": {
        "colab": {
          "base_uri": "https://localhost:8080/"
        },
        "id": "9YUeBEyeqro-",
        "outputId": "e31bbeaa-b811-49d1-a48a-b2154fdf3db9"
      },
      "outputs": [
        {
          "output_type": "stream",
          "name": "stdout",
          "text": [
            "Hello World\n"
          ]
        }
      ],
      "source": [
        "print(\"Hello World\") # ctrl + enter 치면 현재 셀 실행 <- # 하고 쓰면 주석 처리됨\n",
        "# <- ctrl+/로 토글 <- 드래그하고 ctrl+/ 하면 여러 줄 토글 가능\n",
        "# alt+enter하면 실행하고 밑에다가 셀을 새로 만듦\n",
        "# esc하면 방향키 위아래로 셀 왔다갔다. 엔터 치면 다시 코드 작성. 이 모드에서 a 하면 위에 셀, b 하면 아래에 셀 만듬\n",
        "# ctrl + m, d 하면 셀 삭제\n",
        "# ctrl + z, ctrl + shift + z, ctrl + c, ctrl + v\n",
        "#\n",
        "#\n",
        "#\n",
        "#\n",
        "#"
      ]
    },
    {
      "cell_type": "markdown",
      "source": [
        "# 큰 제목\n",
        "## 그 다음으로 큰 제목\n",
        "### **그그 다음으로 큰**\n",
        "\n",
        "- 1\n",
        " - 1 - 1\n",
        "   - 1-1-1\n",
        "\n",
        "> ㅎㅎ\n",
        ">> ㅎㅎㅎ\n",
        "\n",
        "$y=x$\n",
        "\n",
        "```python\n",
        "print(\"hello World\")\n",
        "a=1\n",
        "b=2\n",
        "```\n",
        "[유튜브](http://youtu.be/I)"
      ],
      "metadata": {
        "id": "1-wo4faxrIAB"
      }
    },
    {
      "cell_type": "markdown",
      "source": [
        "#파이썬은 계산기다!"
      ],
      "metadata": {
        "id": "fP8JPndHuX_J"
      }
    },
    {
      "cell_type": "code",
      "source": [
        "1+1"
      ],
      "metadata": {
        "colab": {
          "base_uri": "https://localhost:8080/"
        },
        "id": "Z57bmUpOuVvE",
        "outputId": "fce1b62b-c10b-4360-f554-b7283561a2c2"
      },
      "execution_count": null,
      "outputs": [
        {
          "output_type": "execute_result",
          "data": {
            "text/plain": [
              "2"
            ]
          },
          "metadata": {},
          "execution_count": 4
        }
      ]
    },
    {
      "cell_type": "markdown",
      "source": [],
      "metadata": {
        "id": "JYIN4sFmuXC4"
      }
    },
    {
      "cell_type": "code",
      "source": [
        "4//2"
      ],
      "metadata": {
        "colab": {
          "base_uri": "https://localhost:8080/"
        },
        "id": "JErSld3jrIt2",
        "outputId": "c775095d-0125-4bef-a121-229d60e443ba"
      },
      "execution_count": null,
      "outputs": [
        {
          "output_type": "execute_result",
          "data": {
            "text/plain": [
              "2"
            ]
          },
          "metadata": {},
          "execution_count": 5
        }
      ]
    },
    {
      "cell_type": "code",
      "source": [
        "print(0b00011) # 0b는 2진수\n",
        "print(0xA) # 0x는 16진수"
      ],
      "metadata": {
        "colab": {
          "base_uri": "https://localhost:8080/"
        },
        "id": "ueg_haVauhUk",
        "outputId": "e1a308f9-3d19-4547-80f9-db24fe08783c"
      },
      "execution_count": null,
      "outputs": [
        {
          "output_type": "stream",
          "name": "stdout",
          "text": [
            "3\n"
          ]
        }
      ]
    },
    {
      "cell_type": "code",
      "source": [
        "1**2 == 1"
      ],
      "metadata": {
        "colab": {
          "base_uri": "https://localhost:8080/"
        },
        "id": "fqQo5lYLu18F",
        "outputId": "494cd8c0-efab-4bbb-899d-c8380b57f60a"
      },
      "execution_count": null,
      "outputs": [
        {
          "output_type": "execute_result",
          "data": {
            "text/plain": [
              "True"
            ]
          },
          "metadata": {},
          "execution_count": 1
        }
      ]
    },
    {
      "cell_type": "code",
      "source": [
        "print(bool(2000))"
      ],
      "metadata": {
        "colab": {
          "base_uri": "https://localhost:8080/"
        },
        "id": "O6KCfactxtoP",
        "outputId": "65469d72-dc81-4046-baba-ed3ce089e8cb"
      },
      "execution_count": null,
      "outputs": [
        {
          "output_type": "stream",
          "name": "stdout",
          "text": [
            "True\n"
          ]
        }
      ]
    },
    {
      "cell_type": "code",
      "source": [
        "print(bool(-1))"
      ],
      "metadata": {
        "colab": {
          "base_uri": "https://localhost:8080/"
        },
        "id": "E78MpN7wxvTD",
        "outputId": "371b8044-ceb6-4643-aceb-7ca7f546ce23"
      },
      "execution_count": null,
      "outputs": [
        {
          "output_type": "stream",
          "name": "stdout",
          "text": [
            "True\n"
          ]
        }
      ]
    },
    {
      "cell_type": "code",
      "source": [
        "a=[1,2,3]\n",
        "print(a*2)"
      ],
      "metadata": {
        "colab": {
          "base_uri": "https://localhost:8080/"
        },
        "id": "pNoNSKwpyEHK",
        "outputId": "6556e519-f29c-48e3-e9ff-98b684e93ccc"
      },
      "execution_count": null,
      "outputs": [
        {
          "output_type": "stream",
          "name": "stdout",
          "text": [
            "[1, 2, 3, 1, 2, 3]\n"
          ]
        }
      ]
    },
    {
      "cell_type": "code",
      "source": [
        "int(2.9)"
      ],
      "metadata": {
        "colab": {
          "base_uri": "https://localhost:8080/"
        },
        "id": "_Mw8_LJmxzhz",
        "outputId": "07ee1f1c-15ef-45a6-9653-aef6a2e91114"
      },
      "execution_count": null,
      "outputs": [
        {
          "output_type": "execute_result",
          "data": {
            "text/plain": [
              "2"
            ]
          },
          "metadata": {},
          "execution_count": 6
        }
      ]
    },
    {
      "cell_type": "code",
      "source": [
        "a=[1,2,3,4,5,6,7,8,9,10]\n",
        "b=a[0:3] # 0 부터 3 미만번쨰\n",
        "print(b)\n",
        "\n",
        "print(a[:5]) #첫번째 자리를 비우면 처음 것부터\n",
        "print(a[5:]) # 두번째 자리를 비우면 마지막까지\n",
        "print(a[:])\n",
        "print(a[:7:2])\n",
        "print(a[7::2])\n",
        "print(a[::2])\n",
        "print(a[::])"
      ],
      "metadata": {
        "colab": {
          "base_uri": "https://localhost:8080/"
        },
        "id": "1lpHXE1K00dE",
        "outputId": "191a60ef-387e-49c3-c302-363397f9615d"
      },
      "execution_count": null,
      "outputs": [
        {
          "output_type": "stream",
          "name": "stdout",
          "text": [
            "[1, 2, 3]\n",
            "[1, 2, 3, 4, 5]\n",
            "[6, 7, 8, 9, 10]\n",
            "[1, 2, 3, 4, 5, 6, 7, 8, 9, 10]\n",
            "[1, 3, 5, 7]\n",
            "[8, 10]\n",
            "[1, 3, 5, 7, 9]\n",
            "[1, 2, 3, 4, 5, 6, 7, 8, 9, 10]\n"
          ]
        }
      ]
    },
    {
      "cell_type": "code",
      "source": [
        "a= range(1,10,2)\n",
        "print(a)"
      ],
      "metadata": {
        "colab": {
          "base_uri": "https://localhost:8080/"
        },
        "id": "1ZXxP9YV1IFa",
        "outputId": "28f6a6f5-6c58-4713-9971-31a1f9c27567"
      },
      "execution_count": null,
      "outputs": [
        {
          "output_type": "stream",
          "name": "stdout",
          "text": [
            "range(1, 10, 2)\n"
          ]
        }
      ]
    },
    {
      "cell_type": "code",
      "source": [
        "a=zip([\"a\", \"b\"], [1,2])\n",
        "print(list(a))\n"
      ],
      "metadata": {
        "colab": {
          "base_uri": "https://localhost:8080/"
        },
        "id": "h0sEDcI92xsk",
        "outputId": "e5efd328-2ef3-4c4b-f11c-5af2a6288535"
      },
      "execution_count": null,
      "outputs": [
        {
          "output_type": "stream",
          "name": "stdout",
          "text": [
            "[('a', 1), ('b', 2)]\n"
          ]
        }
      ]
    },
    {
      "cell_type": "code",
      "source": [
        "a=[1,2,3,4,5]\n",
        "j=1\n",
        "for i in a:\n",
        "    print(j,\"번째에\",i,\"가 들어있어요\")\n",
        "    j+=1"
      ],
      "metadata": {
        "colab": {
          "base_uri": "https://localhost:8080/"
        },
        "id": "uevPRx_12zSA",
        "outputId": "698d52d6-7def-4418-9e29-8a5832411b05"
      },
      "execution_count": null,
      "outputs": [
        {
          "output_type": "stream",
          "name": "stdout",
          "text": [
            "1 번째에 1 가 들어있어요\n",
            "2 번째에 2 가 들어있어요\n",
            "3 번째에 3 가 들어있어요\n",
            "4 번째에 4 가 들어있어요\n",
            "5 번째에 5 가 들어있어요\n"
          ]
        }
      ]
    },
    {
      "cell_type": "code",
      "source": [
        "a=[2,2,6,8,4]\n",
        "for i, val in enumerate(a, start = 2):\n",
        "    print(i,\"번째에\", val,\"가 들어있어요\")"
      ],
      "metadata": {
        "colab": {
          "base_uri": "https://localhost:8080/"
        },
        "id": "t3tSIDA820TI",
        "outputId": "2878be55-ef24-4055-fdb2-899f9e20ad52"
      },
      "execution_count": null,
      "outputs": [
        {
          "output_type": "stream",
          "name": "stdout",
          "text": [
            "2 번째에 2 가 들어있어요\n",
            "3 번째에 2 가 들어있어요\n",
            "4 번째에 6 가 들어있어요\n",
            "5 번째에 8 가 들어있어요\n",
            "6 번째에 4 가 들어있어요\n"
          ]
        }
      ]
    },
    {
      "cell_type": "code",
      "source": [
        "for i in range(4):\n",
        "    print(\"*\"*(i+1))"
      ],
      "metadata": {
        "colab": {
          "base_uri": "https://localhost:8080/"
        },
        "id": "E5DDLHon20pY",
        "outputId": "f3a53f9e-9f07-429f-d70c-b11534c12d51"
      },
      "execution_count": null,
      "outputs": [
        {
          "output_type": "stream",
          "name": "stdout",
          "text": [
            "*\n",
            "**\n",
            "***\n",
            "****\n"
          ]
        }
      ]
    },
    {
      "cell_type": "code",
      "source": [
        "a=[1,2,3]\n",
        "b=a.copy()\n",
        "b[1]=10\n",
        "print(\"a=\",a,\"b=\",b)"
      ],
      "metadata": {
        "colab": {
          "base_uri": "https://localhost:8080/"
        },
        "id": "Gg_qNRms207g",
        "outputId": "7da614f7-ce03-4dc4-e3b9-82dd76d5653f"
      },
      "execution_count": null,
      "outputs": [
        {
          "output_type": "stream",
          "name": "stdout",
          "text": [
            "a= [1, 2, 3] b= [1, 10, 3]\n"
          ]
        }
      ]
    },
    {
      "cell_type": "code",
      "source": [
        "print(round(1.51561391,3))"
      ],
      "metadata": {
        "colab": {
          "base_uri": "https://localhost:8080/"
        },
        "id": "iBN_q0CEeAvc",
        "outputId": "be91eb7b-4f53-427b-a02e-c7ee7451921d"
      },
      "execution_count": null,
      "outputs": [
        {
          "output_type": "stream",
          "name": "stdout",
          "text": [
            "1.516\n"
          ]
        }
      ]
    },
    {
      "cell_type": "code",
      "source": [
        "b=[2,4,6,3,2]\n",
        "c=[5,6,3,1,4]\n",
        "a=[i-j for i, j in zip(b, c)]\n",
        "print(a)\n",
        "print(zip(b,c))\n"
      ],
      "metadata": {
        "colab": {
          "base_uri": "https://localhost:8080/"
        },
        "id": "XrZpAVXkeNyx",
        "outputId": "fd772419-cf66-44bc-af49-632597dd5f37"
      },
      "execution_count": null,
      "outputs": [
        {
          "output_type": "stream",
          "name": "stdout",
          "text": [
            "[-3, -2, 3, 2, -2]\n",
            "<zip object at 0x7adce4e34d80>\n"
          ]
        }
      ]
    },
    {
      "cell_type": "code",
      "source": [
        "a=[[1,2,3,4],[5,6,7,8]]\n",
        "\n",
        "for x, y, z, w in a:\n",
        "    print(x,y,z, w)"
      ],
      "metadata": {
        "colab": {
          "base_uri": "https://localhost:8080/"
        },
        "id": "Xm_ADxs8m44U",
        "outputId": "3e5d73c6-aebe-4c05-a7a6-c85387724fab"
      },
      "execution_count": null,
      "outputs": [
        {
          "output_type": "stream",
          "name": "stdout",
          "text": [
            "1 2 3 4\n",
            "5 6 7 8\n"
          ]
        }
      ]
    },
    {
      "cell_type": "code",
      "source": [
        "#task a=[[0,0],[0,0],[0,0]] using for in\n",
        "[[0 for i in range(2)] for j in range(3)]"
      ],
      "metadata": {
        "colab": {
          "base_uri": "https://localhost:8080/"
        },
        "id": "-RTWbIyarExo",
        "outputId": "5237bab6-509e-4003-940b-19c29dc4b3bc"
      },
      "execution_count": null,
      "outputs": [
        {
          "output_type": "execute_result",
          "data": {
            "text/plain": [
              "[[0, 0], [0, 0], [0, 0]]"
            ]
          },
          "metadata": {},
          "execution_count": 29
        }
      ]
    },
    {
      "cell_type": "markdown",
      "source": [
        "# 텍스트 파일 만들고 쓰기\n"
      ],
      "metadata": {
        "id": "YCp7Zozy-_QU"
      }
    },
    {
      "cell_type": "code",
      "source": [
        "import os\n",
        "folder_name = \"saved\"\n",
        "if not os.path.exists(folder_name):\n",
        "    os.makedirs(folder_name)\n",
        "\n",
        "with open(\"saved/Hello.txt\",\"w\") as f: #with:열린채로 실행해, w모드면 만들어줌\n",
        "    f.write(\"hello World!\\n\")\n",
        "    f.write(\"Hello World!2\\n\")\n",
        "    f.write(\"Hello World!3\")\n",
        "\n"
      ],
      "metadata": {
        "id": "wunDruoz_Bta"
      },
      "execution_count": null,
      "outputs": []
    },
    {
      "cell_type": "code",
      "source": [
        "with open(\"saved/Hello.txt\", \"r\") as f:\n",
        "    line= None #None으로 해야 공백(\"\")과 구별이 되어서 while이 돈다.\n",
        "    while line !=\"\":\n",
        "        line=f.readline()\n",
        "        print(line, end=\"\")"
      ],
      "metadata": {
        "colab": {
          "base_uri": "https://localhost:8080/"
        },
        "id": "OAwWcPBsAk7Q",
        "outputId": "ade598d7-3de1-4e5d-a5d3-4b171fd23e07"
      },
      "execution_count": null,
      "outputs": [
        {
          "output_type": "stream",
          "name": "stdout",
          "text": [
            "hello World!\n",
            "Hello World!2\n",
            "Hello World!3"
          ]
        }
      ]
    },
    {
      "cell_type": "markdown",
      "source": [
        "#함수\n"
      ],
      "metadata": {
        "id": "_w4kFxItEstR"
      }
    },
    {
      "cell_type": "code",
      "source": [
        "def f(a):\n",
        "    a=5\n",
        "\n",
        "a=3\n",
        "f(a)\n",
        "print(a)"
      ],
      "metadata": {
        "colab": {
          "base_uri": "https://localhost:8080/"
        },
        "id": "E57NRBR-Ermx",
        "outputId": "e2a458e1-262e-4dce-b3cf-118965306b6d"
      },
      "execution_count": null,
      "outputs": [
        {
          "output_type": "stream",
          "name": "stdout",
          "text": [
            "3\n"
          ]
        }
      ]
    },
    {
      "cell_type": "code",
      "source": [
        "#call by assignment\n",
        "def f(x):\n",
        "    x[0]=5 # 내부에서 리스트 자체에 접근하면 (mutable하면 속 값이 변해서 밖에서도 변해있음!)\n",
        "\n",
        "a=[1,2]\n",
        "f(a)\n",
        "print(a)"
      ],
      "metadata": {
        "colab": {
          "base_uri": "https://localhost:8080/"
        },
        "id": "w2Dvand2Dgha",
        "outputId": "33436d1c-410d-4afc-9615-2f4406631616"
      },
      "execution_count": null,
      "outputs": [
        {
          "output_type": "stream",
          "name": "stdout",
          "text": [
            "[5, 2]\n"
          ]
        }
      ]
    },
    {
      "cell_type": "code",
      "source": [
        "x=(10, 20)\n",
        "print(x)\n",
        "print(*x) #언패킹"
      ],
      "metadata": {
        "colab": {
          "base_uri": "https://localhost:8080/"
        },
        "id": "c3wNuZreDhLI",
        "outputId": "78280413-cc55-4a93-cdae-bd12fc575249"
      },
      "execution_count": null,
      "outputs": [
        {
          "output_type": "stream",
          "name": "stdout",
          "text": [
            "(10, 20)\n",
            "10 20\n"
          ]
        }
      ]
    },
    {
      "cell_type": "code",
      "source": [
        "def introduce1(name, age, address):\n",
        "    print(f\"이름은 {name}이고 나이는 {age}살이고 사는 데는 {address}이다.\")"
      ],
      "metadata": {
        "id": "cVNNwdhEZPJc"
      },
      "execution_count": null,
      "outputs": []
    },
    {
      "cell_type": "code",
      "source": [
        "def introduce2(name, age=\"비밀\", address=\"비밀\"): #디폴트 값이다!\n",
        "    print(f\"이름은 {name}이고 나이는 {age}살이고 사는 데는 {address}이다.\")\n",
        "\n",
        "introduce2(\"묵이\")"
      ],
      "metadata": {
        "colab": {
          "base_uri": "https://localhost:8080/"
        },
        "id": "Y36okYrjiTcB",
        "outputId": "d6484d47-7fa2-4ff7-daf2-cb0a8c152c93"
      },
      "execution_count": null,
      "outputs": [
        {
          "output_type": "stream",
          "name": "stdout",
          "text": [
            "이름은 묵이이고 나이는 비밀살이고 사는 데는 비밀이다.\n"
          ]
        }
      ]
    },
    {
      "cell_type": "code",
      "source": [
        "# def introduce3(name=\"혁펜\", age, address=\"비밀\") #이렇게하면 선언이 안됨, 디폴트 값을 정할 녀석들은 모두 뒤쪽으로\n",
        "\n",
        "def introduce4(name=\"비밀\", age=\"비밀\", address=\"비밀\"):\n",
        "    print(f\"이름은 {name}이고 나이는 {age}살이고 사는 데는 {address}이다\")\n",
        "\n",
        "introduce4()"
      ],
      "metadata": {
        "colab": {
          "base_uri": "https://localhost:8080/"
        },
        "id": "uE1SCbNFi5wr",
        "outputId": "23320f59-922b-480e-a68a-a40b56190713"
      },
      "execution_count": null,
      "outputs": [
        {
          "output_type": "stream",
          "name": "stdout",
          "text": [
            "이름은 비밀이고 나이는 비밀살이고 사는 데는 비밀이다\n"
          ]
        }
      ]
    },
    {
      "cell_type": "code",
      "source": [
        "d = {\"name\":\"혁펜\", \"age\":100, \"address\":\"한국\"}\n",
        "print(*d)\n",
        "introduce4(*d) # introduce4(\"name\", \"age\", \"address\")와 동일, dictionary의 key\n",
        "print({**d})\n",
        "introduce4(**d) # introduce4(name = \"혁펜\", age = 100, address = \"한국\") 와 동일, dictionary의 value\n"
      ],
      "metadata": {
        "colab": {
          "base_uri": "https://localhost:8080/"
        },
        "id": "5n4d4uDlj9fD",
        "outputId": "8dedbbb7-8c90-4778-8fd8-dee5ce6d6b1b"
      },
      "execution_count": null,
      "outputs": [
        {
          "output_type": "stream",
          "name": "stdout",
          "text": [
            "name age address\n",
            "이름은 name이고 나이는 age살이고 사는 데는 address이다\n",
            "{'name': '혁펜', 'age': 100, 'address': '한국'}\n",
            "이름은 혁펜이고 나이는 100살이고 사는 데는 한국이다\n"
          ]
        }
      ]
    },
    {
      "cell_type": "code",
      "source": [
        "def my_func(**kwargs): #keyword arguments, 딕셔너리로 묶어 받는다.\n",
        "    print(f\"kwargs에는 {kwargs}가 들어가있다. 타입은 {type(kwargs)}라고 한다\")\n",
        "\n",
        "my_func(name=\"혁펜\")\n",
        "my_func(name=\"혁펜\", age=100, address = \"한국\")"
      ],
      "metadata": {
        "colab": {
          "base_uri": "https://localhost:8080/"
        },
        "id": "KMJOLz7LlvMT",
        "outputId": "5433bbf3-4cf6-4f28-9414-0173cd406697"
      },
      "execution_count": null,
      "outputs": [
        {
          "output_type": "stream",
          "name": "stdout",
          "text": [
            "kwargs에는 {'name': '혁펜'}가 들어가있다. 타입은 <class 'dict'>라고 한다\n",
            "kwargs에는 {'name': '혁펜', 'age': 100, 'address': '한국'}가 들어가있다. 타입은 <class 'dict'>라고 한다\n"
          ]
        }
      ]
    },
    {
      "cell_type": "code",
      "source": [
        "def introduce(**kwargs):\n",
        "    if \"name\" in kwargs: # \"name\"이라는 key가 kwargs에 있다면\n",
        "        print(\"이름은\", kwargs[\"name\"], \"입니다\")\n",
        "    if \"age\" in kwargs:\n",
        "        print(\"나이는\", kwargs[\"age\"], \"입니다\")\n",
        "    if \"address\" in kwargs:\n",
        "        print(\"사는 곳은\", kwargs[\"address\"], \"입니다\")\n",
        "introduce(name=\"혁펜\", age=100, address=\"홍제\")\n",
        "introduce(name=\"묵\")"
      ],
      "metadata": {
        "colab": {
          "base_uri": "https://localhost:8080/"
        },
        "id": "nvmsXKksmrCp",
        "outputId": "42e07368-28f4-4526-ff7d-4559b7dbac3e"
      },
      "execution_count": null,
      "outputs": [
        {
          "output_type": "stream",
          "name": "stdout",
          "text": [
            "이름은 혁펜 입니다\n",
            "나이는 100 입니다\n",
            "사는 곳은 홍제 입니다\n",
            "이름은 묵 입니다\n"
          ]
        }
      ]
    },
    {
      "cell_type": "code",
      "source": [
        "def say(): # 이런걸 재귀함수\n",
        "    print(\"Hello World!\")\n",
        "    #say()\n",
        "\n",
        "say()"
      ],
      "metadata": {
        "colab": {
          "base_uri": "https://localhost:8080/"
        },
        "id": "4Urvtm-L68Un",
        "outputId": "2b840f1e-773a-437e-b208-96e20548fe0c"
      },
      "execution_count": null,
      "outputs": [
        {
          "output_type": "stream",
          "name": "stdout",
          "text": [
            "Hello World!\n"
          ]
        }
      ]
    },
    {
      "cell_type": "code",
      "source": [
        "def say(count):\n",
        "    if count==0:\n",
        "        return\n",
        "    print(\"Hello\")\n",
        "    count -= 1 #count = count - 1\n",
        "    say(count)\n",
        "\n",
        "say(3)"
      ],
      "metadata": {
        "colab": {
          "base_uri": "https://localhost:8080/"
        },
        "id": "cz2fUZdE_Mah",
        "outputId": "16174a82-38fd-4119-d89f-31276d6a6ddd"
      },
      "execution_count": null,
      "outputs": [
        {
          "output_type": "stream",
          "name": "stdout",
          "text": [
            "Hello\n",
            "Hello\n",
            "Hello\n"
          ]
        }
      ]
    },
    {
      "cell_type": "code",
      "source": [
        "def factorial(i):\n",
        "    if i ==1:\n",
        "        return 1\n",
        "    else :\n",
        "        return i*factorial(i-1)\n",
        "\n",
        "factorial(5)"
      ],
      "metadata": {
        "colab": {
          "base_uri": "https://localhost:8080/"
        },
        "id": "CRHtSTp1_wTo",
        "outputId": "a75eb535-bbc8-43e4-d314-c36d9dbf2da5"
      },
      "execution_count": null,
      "outputs": [
        {
          "output_type": "execute_result",
          "data": {
            "text/plain": [
              "120"
            ]
          },
          "metadata": {},
          "execution_count": 8
        }
      ]
    },
    {
      "cell_type": "markdown",
      "source": [
        "#로컬변수와 글로벌 변수"
      ],
      "metadata": {
        "id": "HnSgYvc2ARfp"
      }
    },
    {
      "cell_type": "code",
      "source": [
        "EPOCH = 2\n",
        "BATCH = 5 #글로벌 변수\n",
        "\n",
        "def treain(weight):\n",
        "    x = 1"
      ],
      "metadata": {
        "id": "BDjk5I2sAcbF"
      },
      "execution_count": null,
      "outputs": []
    },
    {
      "cell_type": "markdown",
      "source": [
        "#람다 표현식\n"
      ],
      "metadata": {
        "id": "BXoLJBrgPzKf"
      }
    },
    {
      "cell_type": "code",
      "source": [
        "def plus_ten(x):\n",
        "    return x+10\n",
        "\n",
        "plus_ten(10)\n"
      ],
      "metadata": {
        "colab": {
          "base_uri": "https://localhost:8080/"
        },
        "id": "U3yRR53_P04B",
        "outputId": "da54b376-de82-41c1-9a2b-93807abc49e7"
      },
      "execution_count": null,
      "outputs": [
        {
          "output_type": "execute_result",
          "data": {
            "text/plain": [
              "20"
            ]
          },
          "metadata": {},
          "execution_count": 10
        }
      ]
    },
    {
      "cell_type": "code",
      "source": [
        "plus_ten = lambda x: x+10 # 입력이 x, 출력이 x+10\n",
        "\n",
        "plus_ten(5)"
      ],
      "metadata": {
        "colab": {
          "base_uri": "https://localhost:8080/"
        },
        "id": "EHJ-RF1VP6Zo",
        "outputId": "b1504016-6b28-46ef-e695-d0a995b532fa"
      },
      "execution_count": null,
      "outputs": [
        {
          "output_type": "execute_result",
          "data": {
            "text/plain": [
              "15"
            ]
          },
          "metadata": {},
          "execution_count": 13
        }
      ]
    },
    {
      "cell_type": "code",
      "source": [
        "f = lambda a, b : a-b\n",
        "print(list(map(f,[1,2,3], [2,3,4])))"
      ],
      "metadata": {
        "colab": {
          "base_uri": "https://localhost:8080/"
        },
        "id": "Y78ABfv0UP6D",
        "outputId": "389eeb38-73b4-428c-ce9b-9a708a949617"
      },
      "execution_count": null,
      "outputs": [
        {
          "output_type": "stream",
          "name": "stdout",
          "text": [
            "[-1, -1, -1]\n"
          ]
        }
      ]
    },
    {
      "cell_type": "code",
      "source": [
        "f = lambda x:2*x if x%2==0 else x #람다표현식에서 if 썼으면 else도 반드시 필요!\n",
        "print(list(map(f,[1,2,3,4])))"
      ],
      "metadata": {
        "colab": {
          "base_uri": "https://localhost:8080/"
        },
        "id": "Ja_GTuOpVBw4",
        "outputId": "46d5d80f-3f05-4855-ce75-7265e64e08b5"
      },
      "execution_count": null,
      "outputs": [
        {
          "output_type": "stream",
          "name": "stdout",
          "text": [
            "[1, 4, 3, 8]\n"
          ]
        }
      ]
    },
    {
      "cell_type": "code",
      "source": [
        "f = lambda x : 2*x if x==1 else 3*x if x==2 else x\n",
        "print(list(map(f,[1,2,3,4])))"
      ],
      "metadata": {
        "colab": {
          "base_uri": "https://localhost:8080/"
        },
        "id": "fhdmfFNIZFTu",
        "outputId": "9cfe10de-8e1d-4f57-add3-c7ae1657b7fd"
      },
      "execution_count": null,
      "outputs": [
        {
          "output_type": "stream",
          "name": "stdout",
          "text": [
            "[2, 6, 3, 4]\n"
          ]
        }
      ]
    },
    {
      "cell_type": "markdown",
      "source": [
        "#클래스"
      ],
      "metadata": {
        "id": "dCHuC305Z363"
      }
    },
    {
      "cell_type": "code",
      "source": [
        "# 로봇을 만든다고 해보자 -> 로봇의 키가 몇이고 몸무게가 몇이고, 안녕이라고 말하면서 인사를 하는 기능이 있고...\n",
        "# 클래스는 좀 큰 변수를 만든다고 봐야... a= 1 은 숫자 한 개 들어간 변수,\n",
        "# a에 숫자 한 개도 넣고 리스트도 넣고 그것들을 가지고 뭔가 기능을 하는 함수를 만들어 넣고 그럴 순 없을까?\n",
        "# 객체(object) 지행(oriented) 프로그래밍(programming)\n",
        "class Robot:\n",
        "    def greeting(self): #메서드(method): 클래스 내부의 함수, 첫 번째 매개변수는 무조건 self (인스턴스 자기자신)\n",
        "        print(\"Hello\")\n",
        "\n",
        "bot1 = Robot() # Robot 이라는 클래스에 해당하는 instance 만들기(실체화), 나중에는\n",
        "bot1.greeting()"
      ],
      "metadata": {
        "colab": {
          "base_uri": "https://localhost:8080/"
        },
        "id": "7-T-QXpyamBu",
        "outputId": "9fd7da7e-564e-472c-e81c-2c788c26e9cd"
      },
      "execution_count": null,
      "outputs": [
        {
          "output_type": "stream",
          "name": "stdout",
          "text": [
            "Hello\n"
          ]
        }
      ]
    },
    {
      "cell_type": "code",
      "source": [
        "a=[1,2,3]\n",
        "a.append(4) # a라는 이름의 인스턴스가 append라는 이름의 method 실행\n",
        "print(type(a))\n"
      ],
      "metadata": {
        "colab": {
          "base_uri": "https://localhost:8080/"
        },
        "id": "CV4RvO4WarFs",
        "outputId": "869d6eb3-3edc-4014-fb95-94b602d2b010"
      },
      "execution_count": null,
      "outputs": [
        {
          "output_type": "stream",
          "name": "stdout",
          "text": [
            "<class 'list'>\n"
          ]
        }
      ]
    },
    {
      "cell_type": "code",
      "source": [
        "class Robot:\n",
        "    def __init__(self): #initialize 라서 init, 인스턴스 생성 즉시 이 함수로 들어옴\n",
        "    # 이 함수명은 약속된 이름이다 (special method)\n",
        "        print(\"__init__으로 들어옴\")\n",
        "\n",
        "bot1 = Robot()\n"
      ],
      "metadata": {
        "colab": {
          "base_uri": "https://localhost:8080/"
        },
        "id": "8UZGnt5DiYGg",
        "outputId": "5134dc33-0611-4b86-f5e9-e15fbacd7324"
      },
      "execution_count": null,
      "outputs": [
        {
          "output_type": "stream",
          "name": "stdout",
          "text": [
            "__init__으로 들어옴\n"
          ]
        }
      ]
    },
    {
      "cell_type": "code",
      "source": [
        "class Robot:\n",
        "    def __init__(self, height, sentence): #initialize 라서 init, 인스턴스 생성 즉시 이 함수로 들어옴\n",
        "        self.height = height # self.height는 밖에서 들어온 height랑은 다른 거임.\n",
        "        self.sentence = sentence\n",
        "        # self는 만들어진 인스턴스 자기자신 자체를 가리킴.\n",
        "        # self.무엇은 self 내부의 것(변수, 함수)을 가리킴.\n",
        "        # 클래스 내부의 변수는 속성(attribute)이라고 한다.\n",
        "\n",
        "    def greeting(self):\n",
        "        print(self.sentence)\n",
        "        print(f\"제 키는 {self.height} 에요\")\n",
        "\n",
        "bot1 = Robot(180, \"안녕\")\n",
        "bot1.greeting()\n",
        "\n",
        "print(bot1.height)\n",
        "print(bot1.sentence)\n",
        "bot1.height -= 10\n",
        "bot1.greeting()\n",
        "\n",
        "bot2 = Robot(160, \"하이\")\n",
        "bot2.greeting()"
      ],
      "metadata": {
        "colab": {
          "base_uri": "https://localhost:8080/"
        },
        "id": "vu3k7Ol-jVuw",
        "outputId": "47e6db52-2a4c-4756-f551-75e94339da4f"
      },
      "execution_count": null,
      "outputs": [
        {
          "output_type": "stream",
          "name": "stdout",
          "text": [
            "안녕\n",
            "제 키는180에요\n",
            "180\n",
            "안녕\n",
            "안녕\n",
            "제 키는170에요\n",
            "하이\n",
            "제 키는160에요\n"
          ]
        }
      ]
    },
    {
      "cell_type": "code",
      "source": [
        "class Robot:\n",
        "    def __init__(self, height, sentence):\n",
        "        self.__height = height # 비공개로 만들고 싶은 속성은 앞에 밑줄 두 개\n",
        "        self.sentence = sentence\n",
        "\n",
        "    def greeting(self):\n",
        "        print(self.sentence)\n",
        "        print(f\"제 키는 {self.height} 에요\")\n",
        "\n",
        "bot1 = Robot(180,\"hi\")\n",
        "bot1.greeting()\n",
        "print(bot1.__height)"
      ],
      "metadata": {
        "id": "m4f4oLiHz_oC"
      },
      "execution_count": null,
      "outputs": []
    }
  ]
}