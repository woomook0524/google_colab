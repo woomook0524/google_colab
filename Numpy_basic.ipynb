{
  "nbformat": 4,
  "nbformat_minor": 0,
  "metadata": {
    "colab": {
      "provenance": [],
      "authorship_tag": "ABX9TyOFSiWI8sJ1mWeeK/jzFeTu",
      "include_colab_link": true
    },
    "kernelspec": {
      "name": "python3",
      "display_name": "Python 3"
    },
    "language_info": {
      "name": "python"
    }
  },
  "cells": [
    {
      "cell_type": "markdown",
      "metadata": {
        "id": "view-in-github",
        "colab_type": "text"
      },
      "source": [
        "<a href=\"https://colab.research.google.com/github/woomook0524/google_colab/blob/main/Numpy_basic.ipynb\" target=\"_parent\"><img src=\"https://colab.research.google.com/assets/colab-badge.svg\" alt=\"Open In Colab\"/></a>"
      ]
    },
    {
      "cell_type": "markdown",
      "source": [
        "#모듈과 패키지\n"
      ],
      "metadata": {
        "id": "ElmW-gXxEBVh"
      }
    },
    {
      "cell_type": "code",
      "source": [
        "#모듈은 변수, 함수, 클래스를 담고 있는 파일 (.py)\n",
        "#패키지는 여러 모듈을 묶은것 (폴더)\n",
        "#import 모듈\n",
        "\n",
        "#모듈.변수\n",
        "#모듈.함수()\n",
        "# 모듈.클래스()"
      ],
      "metadata": {
        "id": "hdltgkCCEC8i"
      },
      "execution_count": null,
      "outputs": []
    },
    {
      "cell_type": "code",
      "source": [
        "import math\n",
        "print(math.pi)"
      ],
      "metadata": {
        "colab": {
          "base_uri": "https://localhost:8080/"
        },
        "id": "TIf73MozE8yA",
        "outputId": "e5474343-c00d-4963-8ac8-5328366e5f2d"
      },
      "execution_count": null,
      "outputs": [
        {
          "output_type": "stream",
          "name": "stdout",
          "text": [
            "3.141592653589793\n"
          ]
        }
      ]
    },
    {
      "cell_type": "code",
      "source": [
        "from math import pi,sqrt\n",
        "print(pi)\n",
        "print(sqrt(4))"
      ],
      "metadata": {
        "colab": {
          "base_uri": "https://localhost:8080/"
        },
        "id": "W6Z6evlxFAGf",
        "outputId": "6013fadc-c34f-473f-bd22-d4a58036128e"
      },
      "execution_count": null,
      "outputs": [
        {
          "output_type": "stream",
          "name": "stdout",
          "text": [
            "3.141592653589793\n",
            "2.0\n"
          ]
        }
      ]
    },
    {
      "cell_type": "code",
      "source": [
        "from math import sqrt as s, pi as p\n",
        "print(p)\n",
        "print(s(4))"
      ],
      "metadata": {
        "colab": {
          "base_uri": "https://localhost:8080/"
        },
        "id": "r-x9rxMzFk1n",
        "outputId": "87b59bac-9eb6-483d-dddd-f43ff94892ba"
      },
      "execution_count": null,
      "outputs": [
        {
          "output_type": "stream",
          "name": "stdout",
          "text": [
            "3.141592653589793\n",
            "2.0\n"
          ]
        }
      ]
    },
    {
      "cell_type": "code",
      "source": [
        "import numpy as np # numpy는 라이브러리 (패키지와 모듈들을 모아놓음)다 numerical python\n",
        "a= np.array([1,2,3])\n",
        "print(a)"
      ],
      "metadata": {
        "colab": {
          "base_uri": "https://localhost:8080/"
        },
        "id": "9ejhji-5GSvm",
        "outputId": "83b662bc-4ced-4785-de9a-18bc00059184"
      },
      "execution_count": null,
      "outputs": [
        {
          "output_type": "stream",
          "name": "stdout",
          "text": [
            "[1 2 3]\n"
          ]
        }
      ]
    },
    {
      "cell_type": "code",
      "source": [
        "import numpy.random\n",
        "print(numpy.random.randn(3,3)) # Normal distribution, (3,3)은 3행 3열 짜리를 의미"
      ],
      "metadata": {
        "colab": {
          "base_uri": "https://localhost:8080/"
        },
        "id": "hTct11ymJahw",
        "outputId": "ff98db76-21a6-4cb9-970e-6df3a131f7cf"
      },
      "execution_count": null,
      "outputs": [
        {
          "output_type": "stream",
          "name": "stdout",
          "text": [
            "[[-0.21354683 -0.8870367  -1.63713481]\n",
            " [-0.58117167 -1.90097373  0.6636987 ]\n",
            " [ 1.23727438  0.49264038 -0.73356269]]\n"
          ]
        }
      ]
    },
    {
      "cell_type": "code",
      "source": [
        "from numpy.random import *\n",
        "print(rand(3,3)) # uniform distribution"
      ],
      "metadata": {
        "colab": {
          "base_uri": "https://localhost:8080/"
        },
        "id": "JUymLqm6KObo",
        "outputId": "e1e8a475-69b3-4c52-bcc3-ae3bd5ac2959"
      },
      "execution_count": null,
      "outputs": [
        {
          "output_type": "stream",
          "name": "stdout",
          "text": [
            "[[0.39018106 0.37646169 0.34606031]\n",
            " [0.99605025 0.03688627 0.76846296]\n",
            " [0.28778607 0.84637879 0.868391  ]]\n"
          ]
        }
      ]
    },
    {
      "cell_type": "code",
      "source": [
        "from numpy.random import randn as rn, rand as r\n",
        "print(rn(3,3))\n",
        "print(r(3,3))"
      ],
      "metadata": {
        "colab": {
          "base_uri": "https://localhost:8080/"
        },
        "id": "8O1toMJZM05w",
        "outputId": "4560377b-223c-4774-9020-eae1d5a8805c"
      },
      "execution_count": null,
      "outputs": [
        {
          "output_type": "stream",
          "name": "stdout",
          "text": [
            "[[-1.6257684  -1.0049925  -1.30518409]\n",
            " [ 1.14227154 -0.12152202 -2.03627761]\n",
            " [ 1.18561368  1.27023749  0.28691293]]\n",
            "[[0.48113271 0.95503362 0.43208295]\n",
            " [0.22937865 0.06267845 0.93736422]\n",
            " [0.41195143 0.93508769 0.88143957]]\n"
          ]
        }
      ]
    },
    {
      "cell_type": "markdown",
      "source": [
        "#numpy 본격적으로"
      ],
      "metadata": {
        "id": "1790ac91PWfW"
      }
    },
    {
      "cell_type": "code",
      "source": [
        "import numpy as np\n",
        "a=np.array([1,'2',3,4])\n",
        "print(a)\n",
        "print(a.dtype) #data type\n",
        "print(a.shape) #(갯수, )"
      ],
      "metadata": {
        "colab": {
          "base_uri": "https://localhost:8080/"
        },
        "id": "lO0j8HL_PSV5",
        "outputId": "613c70bc-9b18-425e-f201-3bb81631ad36"
      },
      "execution_count": null,
      "outputs": [
        {
          "output_type": "stream",
          "name": "stdout",
          "text": [
            "['1' '2' '3' '4']\n",
            "<U21\n",
            "(4,)\n"
          ]
        }
      ]
    },
    {
      "cell_type": "markdown",
      "source": [],
      "metadata": {
        "id": "QeYzS-MRYlz6"
      }
    },
    {
      "cell_type": "code",
      "source": [
        "A=np.array([[1,2],[3,4]]) #이 셀부터는 import numpy as np는 실행 했다 치고 작성\n",
        "# A=np.array([1,2],[3,4,5]) # 리스트와는 달리 이제는 행렬이라서 각 행에 해당하는 숫자의 개수가 같아야 함\n",
        "\n",
        "print(A)\n",
        "print(A.shape)\n",
        "print(A.ndim) #대괄호 갯수, 차원의 수\n",
        "print(A.size) #전체 성분의"
      ],
      "metadata": {
        "colab": {
          "base_uri": "https://localhost:8080/"
        },
        "id": "nDkeJ0ymXFRx",
        "outputId": "8f4561ec-78a5-42c1-a7e1-5490f6673dd3"
      },
      "execution_count": null,
      "outputs": [
        {
          "output_type": "stream",
          "name": "stdout",
          "text": [
            "[[1 2]\n",
            " [3 4]]\n",
            "(2, 2)\n",
            "2\n",
            "4\n"
          ]
        }
      ]
    },
    {
      "cell_type": "code",
      "source": [
        "print(np.zeros(5))\n",
        "print(np.zeros_like(A))\n",
        "print(np.zeros((3,3))) # 튜플을 입력으로! 그냥 np.zeros(3,3)은 안돼요\n",
        "print(type(np.arange(3,10,2))) # range랑 같은데 array로 만들어줌\n",
        "print(np.arange(0,1,0.1)) #소수점 가능\n",
        "print(np.linspace(0,1,10, endpoint=False)) #0에서부터 1포함(default) 10개"
      ],
      "metadata": {
        "colab": {
          "base_uri": "https://localhost:8080/"
        },
        "id": "eUq8RjQxakP_",
        "outputId": "705a1089-0f78-4e7b-9011-8d4147237bde"
      },
      "execution_count": null,
      "outputs": [
        {
          "output_type": "stream",
          "name": "stdout",
          "text": [
            "[0. 0. 0. 0. 0.]\n",
            "[[0 0]\n",
            " [0 0]]\n",
            "[[0. 0. 0.]\n",
            " [0. 0. 0.]\n",
            " [0. 0. 0.]]\n",
            "<class 'numpy.ndarray'>\n",
            "[0.  0.1 0.2 0.3 0.4 0.5 0.6 0.7 0.8 0.9]\n",
            "[0.  0.1 0.2 0.3 0.4 0.5 0.6 0.7 0.8 0.9]\n"
          ]
        }
      ]
    },
    {
      "cell_type": "code",
      "source": [
        "a= np.array([1,2,3])\n",
        "b= np.array([4,5,6])\n",
        "c= a+b\n",
        "d= a-b\n",
        "print(c)\n",
        "print(d)  # list와 np.array가 다른 점이 이것\n",
        "\n",
        "print(a*b) # 곱셈은? 성분끼리의 곱! (Hadamard product)\n",
        "print(a/b) # 나누기도 마찬가지, 제곱도 됨"
      ],
      "metadata": {
        "colab": {
          "base_uri": "https://localhost:8080/"
        },
        "id": "f4vXLxivapFc",
        "outputId": "4f74e925-b69a-4769-a6c4-afcdcb8f1800"
      },
      "execution_count": null,
      "outputs": [
        {
          "output_type": "stream",
          "name": "stdout",
          "text": [
            "[5 7 9]\n",
            "[-3 -3 -3]\n",
            "[ 4 10 18]\n",
            "[0.25 0.4  0.5 ]\n"
          ]
        }
      ]
    },
    {
      "cell_type": "code",
      "source": [
        "A = np.array([[1,2],[3,4]])\n",
        "B = np.array([[1,2],[3,4]])\n",
        "\n",
        "print(A@B) # 행렬의 곱"
      ],
      "metadata": {
        "colab": {
          "base_uri": "https://localhost:8080/"
        },
        "id": "bYCzLv6HH77A",
        "outputId": "4b8d292e-cc92-44aa-d789-87bcd162763b"
      },
      "execution_count": null,
      "outputs": [
        {
          "output_type": "stream",
          "name": "stdout",
          "text": [
            "[[ 7 10]\n",
            " [15 22]]\n"
          ]
        }
      ]
    },
    {
      "cell_type": "markdown",
      "source": [
        "##numpy 의 인덱싱과 슬라이싱"
      ],
      "metadata": {
        "id": "Gs-RVpawIzNB"
      }
    },
    {
      "cell_type": "code",
      "source": [
        "A=np.array([[1,2,3],[4,5,6],[7,8,9]])\n",
        "\n",
        "print(A[0][2])\n",
        "print(A[0,2])\n",
        "print(A[1,:]) #1행, 전부\n",
        "print(A[1,0:3:2])\n",
        "print(A[:,2]) #전부,2열"
      ],
      "metadata": {
        "colab": {
          "base_uri": "https://localhost:8080/"
        },
        "id": "9R3FEqojI14e",
        "outputId": "749ed6eb-79cb-4412-f671-426f0d742044"
      },
      "execution_count": null,
      "outputs": [
        {
          "output_type": "stream",
          "name": "stdout",
          "text": [
            "3\n",
            "3\n",
            "[4 5 6]\n",
            "[4 6]\n",
            "[3 6 9]\n"
          ]
        }
      ]
    },
    {
      "cell_type": "code",
      "source": [
        "# boolean 인덱싱\n",
        "a=[1,2,3,4,5,3,3]\n",
        "print(a==3) #false\n",
        "\n",
        "A=np.array([[1,2,3,4],[5,3,7,3]])\n",
        "print(A==3)\n",
        "\n",
        "A[A==3] = 100\n",
        "print(A)\n",
        "\n",
        "A=np.array([[1,2],[3,4],[5,6],[7,8]])\n",
        "B=np.array([True,False,False,True]) #참고로 그냥 리스트여도 됨\n",
        "\n",
        "A[B,:] # 0 행행, 3행행 슬라이싱\n",
        "\n",
        "b=np.array([1,2,3,4])\n",
        "print(b)\n",
        "print(b[[True,True,False,False]]) #numpy에서만 이런 인덱싱이됨"
      ],
      "metadata": {
        "colab": {
          "base_uri": "https://localhost:8080/"
        },
        "id": "apsHUusgMgtB",
        "outputId": "8edf8769-7011-4106-eeab-e88b0174c317"
      },
      "execution_count": null,
      "outputs": [
        {
          "output_type": "stream",
          "name": "stdout",
          "text": [
            "False\n",
            "[[False False  True False]\n",
            " [False  True False  True]]\n",
            "[[  1   2 100   4]\n",
            " [  5 100   7 100]]\n",
            "[1 2 3 4]\n",
            "[1 2]\n"
          ]
        }
      ]
    },
    {
      "cell_type": "code",
      "source": [],
      "metadata": {
        "id": "2gS2g76KQzoW"
      },
      "execution_count": null,
      "outputs": []
    }
  ]
}